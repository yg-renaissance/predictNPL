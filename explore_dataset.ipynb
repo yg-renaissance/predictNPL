{
 "cells": [
  {
   "cell_type": "code",
   "execution_count": 1,
   "id": "unlikely-lemon",
   "metadata": {},
   "outputs": [],
   "source": [
    "import pandas as pd\n",
    "import numpy as np\n",
    "import seaborn as sns\n",
    "import matplotlib.pyplot as plt"
   ]
  },
  {
   "cell_type": "code",
   "execution_count": 2,
   "id": "authorized-missouri",
   "metadata": {},
   "outputs": [],
   "source": [
    "import requests \n",
    "import random as td"
   ]
  },
  {
   "cell_type": "code",
   "execution_count": null,
   "id": "catholic-reform",
   "metadata": {},
   "outputs": [],
   "source": [
    "# using requests lib is blocked "
   ]
  },
  {
   "cell_type": "code",
   "execution_count": 3,
   "id": "fixed-ceremony",
   "metadata": {},
   "outputs": [],
   "source": [
    "url = 'https://www.kaggle.com/search?q=loan+in%3Adatasets'\n",
    "rq = requests.get(url)"
   ]
  },
  {
   "cell_type": "code",
   "execution_count": 11,
   "id": "retired-guidance",
   "metadata": {},
   "outputs": [],
   "source": [
    "with open('test.html','w') as f :\n",
    "    f.write(rq.text)"
   ]
  },
  {
   "cell_type": "code",
   "execution_count": 6,
   "id": "unusual-distance",
   "metadata": {},
   "outputs": [],
   "source": [
    "from bs4 import BeautifulSoup as bs"
   ]
  },
  {
   "cell_type": "markdown",
   "id": "infinite-howard",
   "metadata": {},
   "source": [
    "### data structure "
   ]
  },
  {
   "cell_type": "code",
   "execution_count": null,
   "id": "gross-anxiety",
   "metadata": {},
   "outputs": [],
   "source": [
    "title\n",
    "author\n",
    "year\n",
    "size\n",
    "== table\n",
    ".sc-qYUWV cHVPXu\n",
    "= list \n",
    ".sc-pRFHb hfFdVj\n",
    "= list\n",
    "1 title\n",
    "2 author\n",
    "3 year size (0 year, 1 size)\n",
    "\t "
   ]
  },
  {
   "cell_type": "markdown",
   "id": "developed-suite",
   "metadata": {},
   "source": [
    "#### using powerfull seleniem "
   ]
  },
  {
   "cell_type": "code",
   "execution_count": 37,
   "id": "average-knife",
   "metadata": {},
   "outputs": [],
   "source": [
    "from selenium import webdriver\n",
    "from selenium.webdriver import ActionChains\n",
    "import time\n",
    "url = 'https://www.kaggle.com/search?q=loan+in%3Adatasets'\n",
    "driver = webdriver.Chrome(r'C:\\Users\\epsilon\\dev\\chromedriver_win32\\chromedriver.exe') #또는 chromedriver.exe\n",
    "driver.get(url)\n",
    "time.sleep(3) # wait to load & render\n",
    "\n",
    "html = driver.page_source"
   ]
  },
  {
   "cell_type": "code",
   "execution_count": 38,
   "id": "empirical-candle",
   "metadata": {},
   "outputs": [],
   "source": [
    "from bs4 import BeautifulSoup  as bs\n",
    "soup = bs(html,'html.parser')"
   ]
  },
  {
   "cell_type": "code",
   "execution_count": null,
   "id": "minimal-celebration",
   "metadata": {},
   "outputs": [],
   "source": []
  },
  {
   "cell_type": "code",
   "execution_count": 26,
   "id": "violent-timber",
   "metadata": {},
   "outputs": [],
   "source": [
    "# multi class 찾기\n",
    "items = driver.find_element_by_class_name('sc-qYUWV')\n",
    "items = driver.find_element_by_class_name('cHVPXu')\n",
    "text = items.text"
   ]
  },
  {
   "cell_type": "code",
   "execution_count": null,
   "id": "following-exhibit",
   "metadata": {},
   "outputs": [],
   "source": [
    "# seleniem snippets"
   ]
  },
  {
   "cell_type": "code",
   "execution_count": null,
   "id": "dying-wheat",
   "metadata": {},
   "outputs": [],
   "source": [
    "name_tag  = driver.find_element_by_id('aName') \n",
    "phone_tag = driver.find_element_by_id('aMobile')\n",
    "sub_tag   = driver.find_element_by_class_name('applyBtnArea')\n",
    "\n",
    "# somthing element 까지 스크롤\n",
    "action = ActionChains(driver)\n",
    "action.move_to_element(name_tag).perform()\n",
    "\n",
    "name_tag.send_keys(get_name())\n",
    "phone_tag.send_keys(phone)\n",
    "sub_tag.click()\n",
    "\n",
    "\n",
    "# event 응모 name은 한글만 인식 ,\n",
    "import random as rd\n",
    "def get_name():\n",
    "    namelist = list('안영필김택수김민수민지민주다빈미향')\n",
    "    rdname= ''.join(rd.sample(namelist,3))\n",
    "    return rdname\n",
    "\n",
    "phone = '01084602176'"
   ]
  },
  {
   "cell_type": "code",
   "execution_count": null,
   "id": "opened-provider",
   "metadata": {},
   "outputs": [],
   "source": [
    "# beautiful soup snippets"
   ]
  },
  {
   "cell_type": "code",
   "execution_count": null,
   "id": "naked-colors",
   "metadata": {},
   "outputs": [],
   "source": [
    "for i, tr in enumerate(content.children) :\n",
    "\n",
    "    if not isinstance(tr , bs4.element.Tag):\n",
    "        continue\n",
    "    \n",
    "    tds = []\n",
    "    for td in tr.select('td'):\n",
    "        tds.append(td)\n",
    "        \n",
    "    pwb['n']        = tds[0].select('.numberText')[1].get_text()\n",
    "    pwb['pw_num']   = tds[2].get_text()\n",
    "    \n",
    "    pwb['pw_scope'] = tds[3].get_text()\n",
    "    pwb['pw_odd']   = tds[4].select('div')[0].attrs['class']\n",
    "    pwb['pw_under'] = tds[5].select('div')[0].attrs['class']\n",
    "\n",
    "    pwb['n_nums']   = tds[6].get_text()\n",
    "    pwb['n_sum']    = tds[7].get_text()\n",
    "    pwb['n_scope']  = tds[8].get_text()\n",
    "    pwb['n_size']   = tds[9].get_text()\n",
    "    pwb['n_odd']    = tds[10].select('div')[0].attrs['class']\n",
    "    pwb['n_under']  = tds[4].select('div')[0].attrs['class']\n",
    "\n",
    "\n",
    "    if i == 3 :\n",
    "        break\n",
    "    print(tr)"
   ]
  }
 ],
 "metadata": {
  "kernelspec": {
   "display_name": "kera",
   "language": "python",
   "name": "kera"
  },
  "language_info": {
   "codemirror_mode": {
    "name": "ipython",
    "version": 3
   },
   "file_extension": ".py",
   "mimetype": "text/x-python",
   "name": "python",
   "nbconvert_exporter": "python",
   "pygments_lexer": "ipython3",
   "version": "3.6.12"
  },
  "widgets": {
   "application/vnd.jupyter.widget-state+json": {
    "state": {},
    "version_major": 2,
    "version_minor": 0
   }
  }
 },
 "nbformat": 4,
 "nbformat_minor": 5
}
