{
 "cells": [
  {
   "cell_type": "code",
   "execution_count": 5,
   "id": "neural-ribbon",
   "metadata": {},
   "outputs": [],
   "source": [
    "import pandas as pd\n",
    "import numpy as np\n",
    "import seaborn as sns\n",
    "import matplotlib.pyplot as plt"
   ]
  },
  {
   "cell_type": "code",
   "execution_count": 22,
   "id": "looking-connection",
   "metadata": {},
   "outputs": [],
   "source": [
    "pd.set_option('display.max_rows',300)"
   ]
  },
  {
   "cell_type": "code",
   "execution_count": 3,
   "id": "similar-nelson",
   "metadata": {},
   "outputs": [
    {
     "name": "stdout",
     "output_type": "stream",
     "text": [
      "Collecting openpyxl\n",
      "  Downloading openpyxl-3.0.6-py2.py3-none-any.whl (242 kB)\n",
      "Collecting et-xmlfile\n",
      "  Using cached et_xmlfile-1.0.1-py3-none-any.whl\n",
      "Collecting jdcal\n",
      "  Using cached jdcal-1.4.1-py2.py3-none-any.whl (9.5 kB)\n",
      "Installing collected packages: jdcal, et-xmlfile, openpyxl\n",
      "Successfully installed et-xmlfile-1.0.1 jdcal-1.4.1 openpyxl-3.0.6\n"
     ]
    }
   ],
   "source": [
    "!pip install openpyxl"
   ]
  },
  {
   "cell_type": "code",
   "execution_count": 6,
   "id": "acting-federation",
   "metadata": {},
   "outputs": [],
   "source": [
    "df = pd.read_excel('./std/ksic.xlsx',engine='openpyxl')"
   ]
  },
  {
   "cell_type": "code",
   "execution_count": 11,
   "id": "imported-family",
   "metadata": {},
   "outputs": [],
   "source": [
    "df = df.rename( columns = df.iloc[0])"
   ]
  },
  {
   "cell_type": "code",
   "execution_count": 28,
   "id": "successful-qatar",
   "metadata": {},
   "outputs": [],
   "source": [
    "df.drop(index=0,inplace=True)\n",
    "df.drop(index=1,inplace=True)"
   ]
  },
  {
   "cell_type": "code",
   "execution_count": 33,
   "id": "operational-blind",
   "metadata": {},
   "outputs": [],
   "source": [
    "df = df.fillna(method='ffill')"
   ]
  },
  {
   "cell_type": "code",
   "execution_count": 42,
   "id": "liquid-portfolio",
   "metadata": {},
   "outputs": [],
   "source": [
    "df.columns = [    '대분류(21)','대분류 코드','중분류(77)','중분류 코드','소분류(232)','소분류 코드'\n",
    "              ,'세분류(495)','세분류 코드','세세분류(1,196)','세세분류 코드']"
   ]
  },
  {
   "cell_type": "code",
   "execution_count": 38,
   "id": "everyday-consent",
   "metadata": {},
   "outputs": [
    {
     "data": {
      "text/plain": [
       "Index(['대분류(21)', '대분류 코드', '중분류(77)', '중분류 코드', '소분류(232)', '소분류 코드',\n",
       "       '세분류(495)', '세분류 코드', '세세분류(1,196)', '세세분류 코드'],\n",
       "      dtype='object')"
      ]
     },
     "execution_count": 38,
     "metadata": {},
     "output_type": "execute_result"
    }
   ],
   "source": [
    "df.columns"
   ]
  },
  {
   "cell_type": "code",
   "execution_count": 45,
   "id": "acquired-constitutional",
   "metadata": {},
   "outputs": [],
   "source": [
    "df = df[['대분류 코드', '중분류 코드', '소분류 코드','세분류 코드', '세세분류 코드',\n",
    "              '대분류(21)', '중분류(77)', '소분류(232)','세분류(495)', '세세분류(1,196)'\n",
    "]]"
   ]
  },
  {
   "cell_type": "code",
   "execution_count": 47,
   "id": "through-identification",
   "metadata": {},
   "outputs": [],
   "source": [
    "df.columns = [ '대분류(21)', '중분류(77)', '소분류(232)','세분류(495)', '세세분류(1,196)',\n",
    "              '대분류 코드', '중분류 코드', '소분류 코드','세분류 코드', '세세분류 코드'\n",
    "]"
   ]
  },
  {
   "cell_type": "code",
   "execution_count": 55,
   "id": "crucial-sender",
   "metadata": {},
   "outputs": [],
   "source": [
    "import re\n",
    "cols = []\n",
    "for x in df.columns:\n",
    "    cols.append(re.sub('[(][0-9,]+[)]','',x))\n",
    "df.columns = cols"
   ]
  },
  {
   "cell_type": "code",
   "execution_count": 57,
   "id": "previous-ecuador",
   "metadata": {},
   "outputs": [
    {
     "data": {
      "text/plain": [
       "array(['농업, 임업 및 어업(01~03)', '광업(05~08)', '제조업(10~34)',\n",
       "       '전기, 가스, 증기 및 공기 조절 공급업(35)', '수도, 하수 및 폐기물 처리, 원료 재생업(36~39)',\n",
       "       '건설업(41~42)', '도매 및 소매업(45~47)', '운수 및 창고업(49~52)',\n",
       "       '숙박 및 음식점업(55~56)', '정보통신업(58~63)', '금융 및 보험업(64~66)', '부동산업(68)',\n",
       "       '전문, 과학 및 기술 서비스업(70~73)', '사업시설 관리, 사업 지원 및 임대 서비스업(74~76)',\n",
       "       '공공 행정, 국방 및 사회보장 행정(84)', '교육 서비스업(85)', '보건업 및 사회복지 서비스업(86~87)',\n",
       "       '예술, 스포츠 및 여가관련 서비스업(90~91)', '협회 및 단체, 수리 및 기타 개인 서비스업(94~96)',\n",
       "       '가구 내 고용활동 및 달리 분류되지 않은 자가 소비 생산활동(97~98)', '국제 및 외국기관(99)'],\n",
       "      dtype=object)"
      ]
     },
     "execution_count": 57,
     "metadata": {},
     "output_type": "execute_result"
    }
   ],
   "source": [
    "df['대분류'].unique()"
   ]
  },
  {
   "cell_type": "code",
   "execution_count": 7,
   "id": "automatic-tablet",
   "metadata": {},
   "outputs": [],
   "source": [
    "currency = 100\n",
    "money = currency\n",
    "total = 0\n",
    "stage = []\n",
    "rate = 0.1\n",
    "while(money>1) : \n",
    "    money = money - money*rate\n",
    "    stage.append(money)\n",
    "    rate += 0.1"
   ]
  },
  {
   "cell_type": "code",
   "execution_count": 9,
   "id": "modified-hierarchy",
   "metadata": {},
   "outputs": [
    {
     "data": {
      "text/plain": [
       "265.98528"
      ]
     },
     "execution_count": 9,
     "metadata": {},
     "output_type": "execute_result"
    }
   ],
   "source": [
    "np.sum(stage)"
   ]
  },
  {
   "cell_type": "code",
   "execution_count": 6,
   "id": "deadly-hunger",
   "metadata": {},
   "outputs": [
    {
     "data": {
      "text/plain": [
       "891.2720364319122"
      ]
     },
     "execution_count": 6,
     "metadata": {},
     "output_type": "execute_result"
    }
   ],
   "source": [
    "np.sum(stage)"
   ]
  }
 ],
 "metadata": {
  "kernelspec": {
   "display_name": "kera",
   "language": "python",
   "name": "kera"
  },
  "language_info": {
   "codemirror_mode": {
    "name": "ipython",
    "version": 3
   },
   "file_extension": ".py",
   "mimetype": "text/x-python",
   "name": "python",
   "nbconvert_exporter": "python",
   "pygments_lexer": "ipython3",
   "version": "3.6.12"
  },
  "widgets": {
   "application/vnd.jupyter.widget-state+json": {
    "state": {},
    "version_major": 2,
    "version_minor": 0
   }
  }
 },
 "nbformat": 4,
 "nbformat_minor": 5
}
