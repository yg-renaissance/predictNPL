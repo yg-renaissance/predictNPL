{
 "cells": [
  {
   "cell_type": "code",
   "execution_count": 11,
   "id": "pressing-march",
   "metadata": {},
   "outputs": [],
   "source": [
    "import pandas as pd\n",
    "import numpy as np\n",
    "import seaborn as sns\n",
    "import matplotlib.pyplot as plt"
   ]
  },
  {
   "cell_type": "code",
   "execution_count": 58,
   "id": "pregnant-world",
   "metadata": {},
   "outputs": [],
   "source": [
    "def mv_table(df):\n",
    "        # Total missing values\n",
    "        mis_val = df.isnull().sum()\n",
    "        # Percentage of missing values\n",
    "        mis_val_percent = 100 * df.isnull().sum() / len(df)\n",
    "        # Make a table with the results\n",
    "        mis_val_table = pd.concat([mis_val, mis_val_percent], axis=1)\n",
    "        \n",
    "        # Rename the columns\n",
    "        mis_val_table_ren_columns = mis_val_table.rename(\n",
    "        columns = {0 : 'Missing Values', 1 : '% of Total Values'})\n",
    "        \n",
    "        # Sort the table by percentage of missing descending\n",
    "        mis_val_table_ren_columns = mis_val_table_ren_columns[\n",
    "            mis_val_table_ren_columns.iloc[:,1] != 0].sort_values(\n",
    "        '% of Total Values', ascending=False).round(1)\n",
    "        \n",
    "        # Print some summary information\n",
    "        print (\"Your selected dataframe has \" + str(df.shape[1]) + \" columns.\\n\"      \n",
    "            \"There are \" + str(mis_val_table_ren_columns.shape[0]) +\n",
    "              \" columns that have missing values.\")\n",
    "        \n",
    "        # Return the dataframe with missing information\n",
    "        return mis_val_table_ren_columns\n"
   ]
  },
  {
   "cell_type": "code",
   "execution_count": 92,
   "id": "intellectual-dollar",
   "metadata": {},
   "outputs": [],
   "source": [
    "from sklearn.datasets import load_iris\n",
    "iris = load_iris()\n",
    "from sklearn.model_selection import train_test_split\n",
    "\n",
    "df = pd.DataFrame(data=iris.data,columns=iris.feature_names)\n",
    "\n",
    "## Standardization\n",
    "from sklearn.preprocessing import StandardScaler\n",
    "sc = StandardScaler()\n",
    "df = sc.fit_transform(df)\n",
    "df = pd.DataFrame(df,columns=iris.feature_names)\n",
    "\n",
    "df['target'] = iris.target\n",
    "\n",
    "from sklearn.preprocessing import OneHotEncoder\n",
    "enc = OneHotEncoder()\n",
    "target = enc.fit_transform(iris.target.reshape(-1,1)).toarray()\n",
    "\n",
    "xtr,xte, ytr,yte = train_test_split(df.iloc[:,:-1], target)"
   ]
  },
  {
   "cell_type": "code",
   "execution_count": null,
   "id": "split-times",
   "metadata": {
    "_uuid": "59165d3c0c09f25fa49a8b70e13e057a75ebd662"
   },
   "outputs": [],
   "source": [
    "# We will compare different machine learning Cassification models:\n",
    "# cross validation\n",
    "\n",
    "# 1 - Logistic Regression\n",
    "# 2 - K-Nearest Neighbors Classification\n",
    "# 3 - Suport Vector Machine\n",
    "\n",
    "# 4 - Naive Bayes\n",
    "# 5 - Random Forest Classification\n",
    "# # Gradiente Boosting Classification"
   ]
  },
  {
   "cell_type": "code",
   "execution_count": 97,
   "id": "empty-theorem",
   "metadata": {},
   "outputs": [],
   "source": [
    "from sklearn.model_selection import cross_val_score as cvs"
   ]
  },
  {
   "cell_type": "code",
   "execution_count": null,
   "id": "defensive-basic",
   "metadata": {},
   "outputs": [],
   "source": [
    "cvs()"
   ]
  },
  {
   "cell_type": "code",
   "execution_count": 96,
   "id": "improving-participant",
   "metadata": {
    "_uuid": "59165d3c0c09f25fa49a8b70e13e057a75ebd662"
   },
   "outputs": [],
   "source": [
    "# Function to calculate mean absolute error\n",
    "def cross_val(X_train, y_train, model):\n",
    "    # Applying k-Fold Cross Validation\n",
    "    from sklearn.model_selection import cross_val_score\n",
    "    accuracies = cross_val_score(estimator = model, X = X_train, y = y_train, cv = 5)\n",
    "    return accuracies.mean()\n",
    "\n",
    "# Takes in a model, trains the model, and evaluates the model on the test set\n",
    "def fit_and_evaluate(model):\n",
    "    \n",
    "    # Train the model\n",
    "    model.fit(X_train, y_train)\n",
    "    \n",
    "    # Make predictions and evalute\n",
    "    model_pred = model.predict(X_test)\n",
    "    model_cross = cross_val(X_train, y_train, model)\n",
    "    \n",
    "    # Return the performance metric\n",
    "    return model_cross"
   ]
  },
  {
   "cell_type": "code",
   "execution_count": 99,
   "id": "efficient-kitty",
   "metadata": {},
   "outputs": [],
   "source": [
    "from sklearn import naive_bayes as nb"
   ]
  },
  {
   "cell_type": "code",
   "execution_count": 100,
   "id": "exterior-store",
   "metadata": {},
   "outputs": [
    {
     "data": {
      "text/plain": [
       "['ABCMeta',\n",
       " 'BaseEstimator',\n",
       " 'BernoulliNB',\n",
       " 'CategoricalNB',\n",
       " 'ClassifierMixin',\n",
       " 'ComplementNB',\n",
       " 'GaussianNB',\n",
       " 'LabelBinarizer',\n",
       " 'MultinomialNB',\n",
       " '_ALPHA_MIN',\n",
       " '_BaseDiscreteNB',\n",
       " '_BaseNB',\n",
       " '__all__',\n",
       " '__builtins__',\n",
       " '__cached__',\n",
       " '__doc__',\n",
       " '__file__',\n",
       " '__loader__',\n",
       " '__name__',\n",
       " '__package__',\n",
       " '__spec__',\n",
       " '_check_partial_fit_first_call',\n",
       " '_check_sample_weight',\n",
       " '_deprecate_positional_args',\n",
       " 'abstractmethod',\n",
       " 'binarize',\n",
       " 'check_X_y',\n",
       " 'check_array',\n",
       " 'check_is_fitted',\n",
       " 'check_non_negative',\n",
       " 'column_or_1d',\n",
       " 'deprecated',\n",
       " 'label_binarize',\n",
       " 'logsumexp',\n",
       " 'np',\n",
       " 'safe_sparse_dot',\n",
       " 'warnings']"
      ]
     },
     "execution_count": 100,
     "metadata": {},
     "output_type": "execute_result"
    }
   ],
   "source": [
    "dir(nb)"
   ]
  },
  {
   "cell_type": "code",
   "execution_count": null,
   "id": "exact-island",
   "metadata": {
    "_uuid": "a5d839ce0829f4d6205b69767b7fa84b0d547744"
   },
   "outputs": [],
   "source": [
    "# # Naive Bayes\n",
    "from sklearn.naive_bayes import GaussianNB\n",
    "naive = GaussianNB()\n",
    "naive_cross = fit_and_evaluate(naive)\n",
    "\n",
    "print('Naive Bayes Performance on the test set: Cross Validation Score = %0.4f' % naive_cross)"
   ]
  },
  {
   "cell_type": "code",
   "execution_count": null,
   "id": "golden-message",
   "metadata": {
    "_uuid": "e90ced9e87d28f2532dd5f9856e41d59e52ed11b"
   },
   "outputs": [],
   "source": [
    "# # Random Forest Classification\n",
    "from sklearn.ensemble import RandomForestClassifier\n",
    "random = RandomForestClassifier(n_estimators = 10, criterion = 'entropy')\n",
    "random_cross = fit_and_evaluate(random)\n",
    "\n",
    "print('Random Forest Performance on the test set: Cross Validation Score = %0.4f' % random_cross)"
   ]
  },
  {
   "cell_type": "code",
   "execution_count": null,
   "id": "sunrise-falls",
   "metadata": {
    "_uuid": "687f4e0ee16b1605f62da51937433c6b1fb1da19"
   },
   "outputs": [],
   "source": [
    "# # Gradiente Boosting Classification\n",
    "from xgboost import XGBClassifier\n",
    "gb = XGBClassifier()\n",
    "gb_cross = fit_and_evaluate(gb)\n",
    "\n",
    "print('Gradiente Boosting Classification Performance on the test set: Cross Validation Score = %0.4f' % gb_cross)"
   ]
  }
 ],
 "metadata": {
  "kernelspec": {
   "display_name": "kera",
   "language": "python",
   "name": "kera"
  },
  "language_info": {
   "codemirror_mode": {
    "name": "ipython",
    "version": 3
   },
   "file_extension": ".py",
   "mimetype": "text/x-python",
   "name": "python",
   "nbconvert_exporter": "python",
   "pygments_lexer": "ipython3",
   "version": "3.6.12"
  },
  "widgets": {
   "application/vnd.jupyter.widget-state+json": {
    "state": {},
    "version_major": 2,
    "version_minor": 0
   }
  }
 },
 "nbformat": 4,
 "nbformat_minor": 5
}
